{
 "cells": [
  {
   "cell_type": "markdown",
   "metadata": {},
   "source": [
    "# Self-Driving Car Engineer Nanodegree\n",
    "\n",
    "\n",
    "## Project: **Finding Lane Lines on the Road** \n",
    "***\n",
    "In this project, you will use the tools you learned about in the lesson to identify lane lines on the road.  You can develop your pipeline on a series of individual images, and later apply the result to a video stream (really just a series of images). Check out the video clip \"raw-lines-example.mp4\" (also contained in this repository) to see what the output should look like after using the helper functions below. \n",
    "\n",
    "Once you have a result that looks roughly like \"raw-lines-example.mp4\", you'll need to get creative and try to average and/or extrapolate the line segments you've detected to map out the full extent of the lane lines.  You can see an example of the result you're going for in the video \"P1_example.mp4\".  Ultimately, you would like to draw just one line for the left side of the lane, and one for the right.\n",
    "\n",
    "In addition to implementing code, there is a brief writeup to complete. The writeup should be completed in a separate file, which can be either a markdown file or a pdf document. There is a [write up template](https://github.com/udacity/CarND-LaneLines-P1/blob/master/writeup_template.md) that can be used to guide the writing process. Completing both the code in the Ipython notebook and the writeup template will cover all of the [rubric points](https://review.udacity.com/#!/rubrics/322/view) for this project.\n",
    "\n",
    "---\n",
    "Let's have a look at our first image called 'test_images/solidWhiteRight.jpg'.  Run the 2 cells below (hit Shift-Enter or the \"play\" button above) to display the image.\n",
    "\n",
    "**Note: If, at any point, you encounter frozen display windows or other confounding issues, you can always start again with a clean slate by going to the \"Kernel\" menu above and selecting \"Restart & Clear Output\".**\n",
    "\n",
    "---"
   ]
  },
  {
   "cell_type": "markdown",
   "metadata": {},
   "source": [
    "**The tools you have are color selection, region of interest selection, grayscaling, Gaussian smoothing, Canny Edge Detection and Hough Tranform line detection.  You  are also free to explore and try other techniques that were not presented in the lesson.  Your goal is piece together a pipeline to detect the line segments in the image, then average/extrapolate them and draw them onto the image for display (as below).  Once you have a working pipeline, try it out on the video stream below.**\n",
    "\n",
    "---\n",
    "\n",
    "<figure>\n",
    " <img src=\"examples/line-segments-example.jpg\" width=\"380\" alt=\"Combined Image\" />\n",
    " <figcaption>\n",
    " <p></p> \n",
    " <p style=\"text-align: center;\"> Your output should look something like this (above) after detecting line segments using the helper functions below </p> \n",
    " </figcaption>\n",
    "</figure>\n",
    " <p></p> \n",
    "<figure>\n",
    " <img src=\"examples/laneLines_thirdPass.jpg\" width=\"380\" alt=\"Combined Image\" />\n",
    " <figcaption>\n",
    " <p></p> \n",
    " <p style=\"text-align: center;\"> Your goal is to connect/average/extrapolate line segments to get output like this</p> \n",
    " </figcaption>\n",
    "</figure>"
   ]
  },
  {
   "cell_type": "markdown",
   "metadata": {},
   "source": [
    "**Run the cell below to import some packages.  If you get an `import error` for a package you've already installed, try changing your kernel (select the Kernel menu above --> Change Kernel).  Still have problems?  Try relaunching Jupyter Notebook from the terminal prompt.  Also, consult the forums for more troubleshooting tips.**  "
   ]
  },
  {
   "cell_type": "markdown",
   "metadata": {},
   "source": [
    "## Import Packages"
   ]
  },
  {
   "cell_type": "code",
   "execution_count": null,
   "metadata": {},
   "outputs": [
    {
     "ename": "ModuleNotFoundError",
     "evalue": "No module named 'cv2'",
     "traceback": [
      "\u001b[0;31m---------------------------------------------------------------------------\u001b[0m",
      "\u001b[0;31mModuleNotFoundError\u001b[0m                       Traceback (most recent call last)",
      "\u001b[0;32m<ipython-input-1-98f81c83b85c>\u001b[0m in \u001b[0;36m<module>\u001b[0;34m()\u001b[0m\n\u001b[1;32m      3\u001b[0m \u001b[0;32mimport\u001b[0m \u001b[0mmatplotlib\u001b[0m\u001b[0;34m.\u001b[0m\u001b[0mimage\u001b[0m \u001b[0;32mas\u001b[0m \u001b[0mmpimg\u001b[0m\u001b[0;34m\u001b[0m\u001b[0m\n\u001b[1;32m      4\u001b[0m \u001b[0;32mimport\u001b[0m \u001b[0mnumpy\u001b[0m \u001b[0;32mas\u001b[0m \u001b[0mnp\u001b[0m\u001b[0;34m\u001b[0m\u001b[0m\n\u001b[0;32m----> 5\u001b[0;31m \u001b[0;32mimport\u001b[0m \u001b[0mcv2\u001b[0m\u001b[0;34m\u001b[0m\u001b[0m\n\u001b[0m\u001b[1;32m      6\u001b[0m \u001b[0mget_ipython\u001b[0m\u001b[0;34m(\u001b[0m\u001b[0;34m)\u001b[0m\u001b[0;34m.\u001b[0m\u001b[0mrun_line_magic\u001b[0m\u001b[0;34m(\u001b[0m\u001b[0;34m'matplotlib'\u001b[0m\u001b[0;34m,\u001b[0m \u001b[0;34m'inline'\u001b[0m\u001b[0;34m)\u001b[0m\u001b[0;34m\u001b[0m\u001b[0m\n",
      "\u001b[0;31mModuleNotFoundError\u001b[0m: No module named 'cv2'"
     ],
     "output_type": "error"
    }
   ],
   "source": [
    "#importing some useful packages\n",
    "import matplotlib.pyplot as plt\n",
    "import matplotlib.image as mpimg\n",
    "import numpy as np\n",
    "import cv2\n",
    "%matplotlib inline"
   ]
  },
  {
   "cell_type": "markdown",
   "metadata": {},
   "source": [
    "## Read in an Image"
   ]
  },
  {
   "cell_type": "code",
   "execution_count": null,
   "metadata": {},
   "outputs": [],
   "source": [
    "#reading in an image\n",
    "image = mpimg.imread('test_images/solidWhiteRight.jpg')\n",
    "\n",
    "#printing out some stats and plotting\n",
    "print('This image is:', type(image), 'with dimensions:', image.shape)\n",
    "plt.imshow(image)  # if you wanted to show a single color channel image called 'gray', for example, call as plt.imshow(gray, cmap='gray')"
   ]
  },
  {
   "cell_type": "markdown",
   "metadata": {},
   "source": [
    "## Ideas for Lane Detection Pipeline"
   ]
  },
  {
   "cell_type": "markdown",
   "metadata": {},
   "source": [
    "**Some OpenCV functions (beyond those introduced in the lesson) that might be useful for this project are:**\n",
    "\n",
    "`cv2.inRange()` for color selection  \n",
    "`cv2.fillPoly()` for regions selection  \n",
    "`cv2.line()` to draw lines on an image given endpoints  \n",
    "`cv2.addWeighted()` to coadd / overlay two images\n",
    "`cv2.cvtColor()` to grayscale or change color\n",
    "`cv2.imwrite()` to output images to file  \n",
    "`cv2.bitwise_and()` to apply a mask to an image\n",
    "\n",
    "**Check out the OpenCV documentation to learn about these and discover even more awesome functionality!**"
   ]
  },
  {
   "cell_type": "markdown",
   "metadata": {},
   "source": [
    "## Helper Functions"
   ]
  },
  {
   "cell_type": "markdown",
   "metadata": {},
   "source": [
    "Below are some helper functions to help get you started. They should look familiar from the lesson!"
   ]
  },
  {
   "cell_type": "code",
   "execution_count": 17,
   "metadata": {},
   "outputs": [],
   "source": [
    "import math\n",
    "\n",
    "def slope(x1, y1, x2, y2):\n",
    "    return (y1 - y2) / (x1 - x2)\n",
    "\"\"\"\n",
    "Separate the lines based on their slopes. Hence, left lane would have\n",
    "a slope less than zero and right lane would have a slope greater than \n",
    "zero\n",
    "\"\"\"\n",
    "def separate_lines(lines):\n",
    "    right_lane = []\n",
    "    left_lane = []\n",
    "\n",
    "    for x1,y1,x2,y2 in lines[:, 0]:\n",
    "        current_slope = slope(x1,y1,x2,y2)\n",
    "        if current_slope >= 0:\n",
    "            right_lane.append([x1,y1,x2,y2,current_slope])\n",
    "        else:\n",
    "            left_lane.append([x1,y1,x2,y2,current_slope])\n",
    "    return right_lane, left_lane\n",
    "\n",
    "\"\"\"\n",
    "Eliminate outliers with unusual slope that might dislocate the actual line\n",
    "\"\"\"\n",
    "def eliminate_outliers(points, cutoff, threshold=0.08):\n",
    "    points = np.array(points)\n",
    "    points = points[(points[:, 4] >= cutoff[0]) & (points[:, 4] <= cutoff[1])]\n",
    "    current_slope = np.mean(points[:, 4], axis=0)\n",
    "    return points[(points[:, 4] <= current_slope+threshold) & (points[:, 4] >= current_slope-threshold)]\n",
    "\n",
    "\"\"\" Use linear regression to merge right and left lane sets by finding the \n",
    "most optimal relationship between a group of points. this will give us a line\n",
    "that will pass closest to each\n",
    "\"\"\"\n",
    "def linear_regr(lanes_array):\n",
    "    x = np.reshape(lanes_array[:, [0, 2]], (1, len(lanes_array) * 2))[0]\n",
    "    y = np.reshape(lanes_array[:, [1, 3]], (1, len(lanes_array) * 2))[0]\n",
    "    A = np.vstack([x, np.ones(len(x))]).T\n",
    "    m, c = np.linalg.lstsq(A, y)[0]\n",
    "    x = np.array(x)\n",
    "    y = np.array(x * m + c)\n",
    "    return x, y, m, c\n",
    "\n",
    "\n",
    "def extend_point(x1, y1, x2, y2, length):\n",
    "    line_len = np.sqrt((x1 - x2)**2 + (y1 - y2)**2)\n",
    "    x = x2 + (x2 - x1) / line_len * length\n",
    "    y = y2 + (y2 - y1) / line_len * length\n",
    "    return x, y\n",
    "\n",
    "\n",
    "def grayscale(img):\n",
    "    \"\"\"Applies the Grayscale transform\n",
    "    This will return an image with only one color channel\n",
    "    but NOTE: to see the returned image as grayscale\n",
    "    (assuming your grayscaled image is called 'gray')\n",
    "    you should call plt.imshow(gray, cmap='gray')\"\"\"\n",
    "    return cv2.cvtColor(img, cv2.COLOR_RGB2GRAY)\n",
    "    # Or use BGR2GRAY if you read an image with cv2.imread()\n",
    "    # return cv2.cvtColor(img, cv2.COLOR_BGR2GRAY)\n",
    "    \n",
    "def canny(img, low_threshold, high_threshold):\n",
    "    \"\"\"Applies the Canny transform\"\"\"\n",
    "    return cv2.Canny(img, low_threshold, high_threshold)\n",
    "\n",
    "def gaussian_blur(img, kernel_size):\n",
    "    \"\"\"Applies a Gaussian Noise kernel\"\"\"\n",
    "    return cv2.GaussianBlur(img, (kernel_size, kernel_size), 0)\n",
    "\n",
    "def region_of_interest(img, vertices):\n",
    "    \"\"\"\n",
    "    Applies an image mask.\n",
    "    \n",
    "    Only keeps the region of the image defined by the polygon\n",
    "    formed from `vertices`. The rest of the image is set to black.\n",
    "    `vertices` should be a numpy array of integer points.\n",
    "    \"\"\"\n",
    "    #defining a blank mask to start with\n",
    "    mask = np.zeros_like(img)   \n",
    "    \n",
    "    #defining a 3 channel or 1 channel color to fill the mask with depending on the input image\n",
    "    if len(img.shape) > 2:\n",
    "        channel_count = img.shape[2]  # i.e. 3 or 4 depending on your image\n",
    "        ignore_mask_color = (255,) * channel_count\n",
    "    else:\n",
    "        ignore_mask_color = 255\n",
    "        \n",
    "    #filling pixels inside the polygon defined by \"vertices\" with the fill color    \n",
    "    cv2.fillPoly(mask, vertices, ignore_mask_color)\n",
    "    \n",
    "    #returning the image only where mask pixels are nonzero\n",
    "    masked_image = cv2.bitwise_and(img, mask)\n",
    "    return masked_image\n",
    "        \n",
    "def hough_lines(img, rho, theta, threshold, min_line_len, max_line_gap):\n",
    "    \"\"\"\n",
    "    `img` should be the output of a Canny transform.\n",
    "        \n",
    "    Returns an image with hough lines drawn.\n",
    "    \"\"\"\n",
    "    lines = cv2.HoughLinesP(img, rho, theta, threshold, np.array([]), minLineLength=min_line_len, maxLineGap=max_line_gap)\n",
    "    line_img = np.zeros((img.shape[0], img.shape[1], 3), dtype=np.uint8)\n",
    "    draw_lines(line_img, lines)\n",
    "    return line_img\n",
    "\n",
    "# Python 3 has support for cool math symbols.\n",
    "\n",
    "def weighted_img(img, initial_img, α=0.8, β=1., γ=0.):\n",
    "    \"\"\"\n",
    "    `img` is the output of the hough_lines(), An image with lines drawn on it.\n",
    "    Should be a blank image (all black) with lines drawn on it.\n",
    "    \n",
    "    `initial_img` should be the image before any processing.\n",
    "    \n",
    "    The result image is computed as follows:\n",
    "    \n",
    "    initial_img * α + img * β + γ\n",
    "    NOTE: initial_img and img must be the same shape!\n",
    "    \"\"\"\n",
    "    return cv2.addWeighted(initial_img, α, img, β, γ)\n",
    "\n",
    "def draw_lines(img, lines, color=[255, 0, 0], thickness=2):\n",
    "    \"\"\"\n",
    "    NOTE: this is the function you might want to use as a starting point once you want to \n",
    "    average/extrapolate the line segments you detect to map out the full\n",
    "    extent of the lane (going from the result shown in raw-lines-example.mp4\n",
    "    to that shown in P1_example.mp4).  \n",
    "    \n",
    "    Think about things like separating line segments by their \n",
    "    slope ((y2-y1)/(x2-x1)) to decide which segments are part of the left\n",
    "    line vs. the right line.  Then, you can average the position of each of \n",
    "    the lines and extrapolate to the top and bottom of the lane.\n",
    "    \n",
    "    This function draws `lines` with `color` and `thickness`.    \n",
    "    Lines are drawn on the image inplace (mutates the image).\n",
    "    If you want to make the lines semi-transparent, think about combining\n",
    "    this function with the weighted_img() function below\n",
    "    \"\"\"\n",
    "    \"\"\"\n",
    "\n",
    "    # Get the top-most point to draw the line \n",
    "    y_minimum = np.min(y_axis)\n",
    "\n",
    "    # Draw the top most point via slope/intercept information obtained from linear regression   \n",
    "    top_point = np.array([(y_minimum - cutoff) / slope, y_minimum], dtype=int)\n",
    "\n",
    "    # Get the bottom left point\n",
    "    max_y = np.max(y_axis)\n",
    "    \n",
    "    bottom_point = np.array([(max_y - cutoff) / slope, max_y], dtype=int)\n",
    "\n",
    "    x1e, y1e = extend_point(bot_point[0],bot_point[1],top_point[0],top_point[1], -1000) # bottom point\n",
    "\n",
    "    x2e, y2e = extend_point(bot_point[0],bot_point[1],top_point[0],top_point[1],  1000) # top point\n",
    "\n",
    "    # return the line.\n",
    "\n",
    "    line = np.array([[x1e,y1e,x2e,y2e]])\n",
    "    cv2.line(img, (x1, y1), (x2, y2), color, thickness)\n",
    "    #lines = np.array([line], dtype=np.int32)\n",
    "\n",
    "\n",
    "    \"\"\"  \n",
    "    #Get the slope of current line\n",
    "    left_lines    = [] # (slope, intercept)\n",
    "    left_weights  = [] # (length,)\n",
    "    right_lines   = [] # (slope, intercept)\n",
    "    right_weights = [] # (length,)\n",
    "\n",
    "    right_lines, left_lines = separate_lines(lines)\n",
    "\n",
    "\n",
    "    if right_lines and left_lines:\n",
    "        right = eliminate_outliers(right_lines,  cutoff=(0.45, 0.75))        \n",
    "        x_axis, y_axis, slope, cutoff = linear_regr(right)\n",
    "        print(\"Processing right lines\")\n",
    "        print(\"X-axis \\t\", x_axis, \"\\t Y-axis\", y_axis, \"\\t Slope\", slope, \"\\t Cuttoff\", cutoff, \"\\n\")   \n",
    "    \n",
    "        left = eliminate_outliers(left_lines, cutoff=(-0.85, -0.6))\n",
    "        x_axis, y_axis, slope, cutoff = linear_regr(left)\n",
    "        print(\"Processing left lines\")\n",
    "        print(\"X-axis \\t\", x_axis, \"\\t Y-axis\", y_axis, \"\\t Slope\", slope, \"\\t Cuttoff\", cutoff, \"\\n\")   \n",
    "\n",
    "\n",
    "    #print(\"Line # \", count, \"\\n\", line, \"\\n\", right, \"\\n\", left)\n",
    "    #count = count + 1;\n",
    "\n",
    "\n",
    "\n",
    "    # Get best line fit based on linear regression\n",
    "    #x_axis, y_axis, slope, cutoff = linear_regr(lines)\n",
    "            \n",
    "    for line in lines:\n",
    "        for x1,y1,x2,y2 in line:\n",
    "            \n",
    "            \n",
    "            cv2.line(img, (x1, y1), (x2, y2), color, thickness)\n",
    "            "
   ]
  },
  {
   "cell_type": "markdown",
   "metadata": {},
   "source": [
    "## Test Images\n",
    "\n",
    "Build your pipeline to work on the images in the directory \"test_images\"  \n",
    "**You should make sure your pipeline works well on these images before you try the videos.**"
   ]
  },
  {
   "cell_type": "code",
   "execution_count": 18,
   "metadata": {},
   "outputs": [
    {
     "name": "stderr",
     "output_type": "stream",
     "text": [
      "/home/syed/anaconda3/envs/carnd-term1/lib/python3.6/site-packages/ipykernel_launcher.py:39: FutureWarning: `rcond` parameter will change to the default of machine precision times ``max(M, N)`` where M and N are the input matrix dimensions.\n",
      "To use the future default and silence this warning we advise to pass `rcond=None`, to keep using the old, explicitly pass `rcond=-1`.\n"
     ]
    },
    {
     "name": "stdout",
     "output_type": "stream",
     "text": [
      "Processing right lines\n",
      "X-axis \t [511. 898. 523. 877. 645. 898.] \t Y-axis [325.11037652 541.88386464 331.83203507 530.12096218 400.16889695\n",
      " 541.88386464] \t Slope 0.5601382121829798 \t Cuttoff 38.87975009661201 \n",
      "\n",
      "Processing left lines\n",
      "X-axis \t [449. 466. 291. 344. 292. 353. 295. 353. 450. 468. 312. 331.] \t Y-axis [334.3033741  321.13252889 456.71475897 415.65271214 455.94000337\n",
      " 408.67991174 453.61573657 408.67991174 333.5286185  319.58301769\n",
      " 440.44489136 425.72453495] \t Slope -0.7747556004473153 \t Cuttoff 682.1686386974978 \n",
      "\n",
      "Processing right lines\n",
      "X-axis \t [661. 720. 724. 747. 730. 765. 560. 579. 559. 575. 728. 768. 563. 579.\n",
      " 698. 732. 687. 731. 670. 692. 530. 536. 733. 761. 766. 772.] \t Y-axis [419.97259429 456.88059524 459.38283259 473.77069736 463.13618862\n",
      " 485.03076545 356.79110114 368.67672857 356.16554181 366.17449122\n",
      " 461.88506994 486.90744346 358.66777916 368.67672857 443.1182898\n",
      " 464.38730729 436.23713708 463.76174795 425.60262833 439.36493377\n",
      " 338.024321   341.77767703 465.01286663 482.5285281  485.65632479\n",
      " 489.40968082] \t Slope 0.6255593380755019 \t Cuttoff 6.477871821759181 \n",
      "\n",
      "Processing left lines\n",
      "X-axis \t [207. 426. 246. 389. 144. 304. 158. 285. 359. 449. 158. 197. 387. 457.\n",
      " 170. 214.] \t Y-axis [497.82620731 342.29387257 470.12866824 368.57102501 542.56838579\n",
      " 428.9374563  532.62567946 442.43112918 389.87682429 325.95942646\n",
      " 532.62567946 504.9281404  369.99141163 320.27787998 524.10335975\n",
      " 492.85485414] \t Slope -0.7101933093067848 \t Cuttoff 644.836222334117 \n",
      "\n",
      "Processing right lines\n",
      "X-axis \t [516. 852. 521. 555. 661. 854. 492. 697. 624. 832. 502. 659.] \t Y-axis [330.2199474  541.97911593 333.3711255  354.7991366  421.60411239\n",
      " 543.23958717 315.0942925  444.29259473 398.28539442 529.37440351\n",
      " 321.39664871 420.34364115] \t Slope 0.6302356206196648 \t Cuttoff 5.018367157358673 \n",
      "\n",
      "Processing left lines\n",
      "X-axis \t [310. 357. 319. 363. 339. 362. 406. 415. 455. 475. 445. 463. 310. 355.] \t Y-axis [426.59870088 393.49043668 420.2588205  389.26384977 406.17019744\n",
      " 389.96828092 358.97331018 352.6334298  324.45618368 310.36756061\n",
      " 331.50049521 318.82073445 426.59870088 394.89929899] \t Slope -0.7044311531288184 \t Cuttoff 644.9723583510188 \n",
      "\n",
      "Processing right lines\n",
      "X-axis \t [744. 836. 507. 520. 769. 807. 743. 863. 815. 870. 767. 808. 584. 607.\n",
      " 494. 516. 495. 513. 582. 602. 504. 520. 545. 550.] \t Y-axis [462.44562974 515.66913756 325.33724545 332.85795851 476.90853947\n",
      " 498.89216227 461.86711335 531.28908008 503.52029339 535.3386948\n",
      " 475.75150669 499.47067866 369.88300743 383.18888439 317.81653238\n",
      " 330.54389295 318.39504877 328.80834378 368.72597465 380.29630244\n",
      " 323.60169628 332.85795851 347.32086824 350.21345019] \t Slope 0.5785163894136013 \t Cuttoff 32.029436013956264 \n",
      "\n",
      "Processing left lines\n",
      "X-axis \t [216. 361. 175. 367. 461. 470. 443. 459. 231. 383. 313. 337. 382. 459.\n",
      " 414. 455. 340. 419. 195. 250. 386. 419. 400. 424. 386. 399.] \t Y-axis [516.72525219 405.35962063 548.21484456 400.7513876  328.5557368\n",
      " 321.64338726 342.38043589 330.09181448 505.20466961 388.46276619\n",
      " 442.22548487 423.79255275 389.23080503 330.09181448 364.6535622\n",
      " 333.16396983 421.48843624 360.81336801 532.85406779 490.61193169\n",
      " 386.15864967 360.81336801 375.40610594 356.97317382 386.15864967\n",
      " 376.17414478] \t Slope -0.7680388383145127 \t Cuttoff 682.6216412643734 \n",
      "\n",
      "Processing right lines\n",
      "X-axis \t [805. 836. 700. 839. 785. 874. 838. 862. 500. 523. 574. 591. 757. 795.\n",
      " 569. 587. 712. 749. 503. 518. 700. 749. 572. 591. 537. 544.] \t Y-axis [501.33584819 519.5972017  439.48287664 521.36442946 489.5543298\n",
      " 541.98208664 520.77535354 534.91317561 321.66769272 335.21643887\n",
      " 365.25931077 375.2736014  473.06020405 495.44508899 362.31393117\n",
      " 372.91729773 446.55178767 468.34759669 323.43492048 332.27105928\n",
      " 439.48287664 468.34759669 364.08115893 375.2736014  343.46350175\n",
      " 347.58703318] \t Slope 0.5890759195640586 \t Cuttoff 27.12973294142035 \n",
      "\n",
      "Processing left lines\n",
      "X-axis \t [159. 388. 179. 258. 260. 460. 408. 434. 432. 452. 381. 427. 337. 385.\n",
      " 242. 304. 159. 322.] \t Y-axis [546.56827173 376.02893859 531.67400683 472.84166046 471.35223397\n",
      " 322.40958494 361.13467368 341.77212931 343.2615558  328.3672909\n",
      " 381.2419313  346.98512203 414.00931409 378.26307832 484.75707238\n",
      " 438.58485118 546.56827173 425.18001277] \t Slope -0.7447132451640787 \t Cuttoff 664.9776777109636 \n",
      "\n",
      "Processing right lines\n",
      "X-axis \t [606. 649. 497. 516. 612. 658. 493. 514. 548. 559. 550. 563.] \t Y-axis [389.36513763 415.35016922 323.49610406 334.97786221 392.99095599\n",
      " 420.78889676 321.07889182 333.76925609 354.31556013 360.9628938\n",
      " 355.52416626 363.38010604] \t Slope 0.6043030602242403 \t Cuttoff 23.157483131917893 \n",
      "\n",
      "Processing left lines\n",
      "X-axis \t [154. 314. 430. 450. 373. 411. 277. 441. 175. 305. 304. 360. 340. 374.\n",
      " 271. 334. 410. 452. 404. 417. 359. 401.] \t Y-axis [545.97174701 428.96154795 344.12915364 329.50287876 385.81403705\n",
      " 358.02411478 456.02015649 336.08470245 530.61415839 435.54337165\n",
      " 436.2746854  395.32111573 409.94739061 385.08272331 460.40803895\n",
      " 414.33527307 358.75542852 328.04025127 363.14331098 353.63623231\n",
      " 396.05242947 365.33725222] \t Slope -0.7313137441103051 \t Cuttoff 658.5940636054331 \n",
      "\n"
     ]
    },
    {
     "data": {
      "image/png": "[encoded data removed]",
      "text/plain": [
       "<Figure size 432x288 with 1 Axes>"
      ]
     },
     "metadata": {},
     "output_type": "display_data"
    }
   ],
   "source": [
    "import os\n",
    "\n",
    "files = os.listdir(\"test_images/\")\n",
    "\n",
    "rho = 1 # distance resolution in pixels of the Hough grid\n",
    "theta = 1*np.pi/180 # angular resolution in radians of the Hough grid\n",
    "threshold = 35     # 35 minimum number of votes (intersections in Hough grid cell)\n",
    "min_line_length = 5 #15 minimum number of pixels making up a line\n",
    "max_line_gap = 2   #3 maximum gap in pixels between connectable line segments\n",
    "\n",
    "for file in files:\n",
    "    if file[0:6] != \"output\":\n",
    "        img = mpimg.imread(\"test_images/\"+file)\n",
    "        gray = grayscale(img)\n",
    "        gray = gaussian_blur(gray, 3)\n",
    "        image_canny = canny(gray,50,150)\n",
    "        \n",
    "        imshape = img.shape\n",
    "        vertices = np.array([[ (.51*imshape[1],imshape[0]*.58),(.49*imshape[1],imshape[0]*0.58), (0,imshape[0]), (imshape[1],imshape[0]) ]], dtype=np.int32)\n",
    "        image_mask = region_of_interest(image_canny, vertices);\n",
    "        \n",
    "        lines = hough_lines(image_mask, 1, np.pi/180, threshold, min_line_length, max_line_gap)      \n",
    "        #annotated_image = weighted_img(lines, img, α=0.8, β=1.)\n",
    "        \n",
    "        result = weighted_img(lines, img, α=0.8, β=1.)\n",
    "        r,g,b = cv2.split(result)\n",
    "        result = cv2.merge((b,g,r))\n",
    "        \n",
    "        cv2.imwrite(\"test_images/output_\" +file, result)\n",
    "        plt.imshow(result, cmap='gray')\n",
    "        \n"
   ]
  },
  {
   "cell_type": "markdown",
   "metadata": {},
   "source": [
    "## Build a Lane Finding Pipeline\n",
    "\n"
   ]
  },
  {
   "cell_type": "markdown",
   "metadata": {},
   "source": [
    "Build the pipeline and run your solution on all test_images. Make copies into the `test_images_output` directory, and you can use the images in your writeup report.\n",
    "\n",
    "Try tuning the various parameters, especially the low and high Canny thresholds as well as the Hough lines parameters."
   ]
  },
  {
   "cell_type": "code",
   "execution_count": 16,
   "metadata": {},
   "outputs": [],
   "source": [
    "# TODO: Build your pipeline that will draw lane lines on the test_images\n",
    "# then save them to the test_images_output directory."
   ]
  },
  {
   "cell_type": "markdown",
   "metadata": {},
   "source": [
    "## Test on Videos\n",
    "\n",
    "You know what's cooler than drawing lanes over images? Drawing lanes over video!\n",
    "\n",
    "We can test our solution on two provided videos:\n",
    "\n",
    "`solidWhiteRight.mp4`\n",
    "\n",
    "`solidYellowLeft.mp4`\n",
    "\n",
    "**Note: if you get an import error when you run the next cell, try changing your kernel (select the Kernel menu above --> Change Kernel). Still have problems? Try relaunching Jupyter Notebook from the terminal prompt. Also, consult the forums for more troubleshooting tips.**\n",
    "\n",
    "**If you get an error that looks like this:**\n",
    "```\n",
    "NeedDownloadError: Need ffmpeg exe. \n",
    "You can download it by calling: \n",
    "imageio.plugins.ffmpeg.download()\n",
    "```\n",
    "**Follow the instructions in the error message and check out [this forum post](https://discussions.udacity.com/t/project-error-of-test-on-videos/274082) for more troubleshooting tips across operating systems.**"
   ]
  },
  {
   "cell_type": "code",
   "execution_count": 27,
   "metadata": {},
   "outputs": [],
   "source": [
    "# Import everything needed to edit/save/watch video clips\n",
    "from moviepy.editor import VideoFileClip\n",
    "from IPython.display import HTML"
   ]
  },
  {
   "cell_type": "code",
   "execution_count": 34,
   "metadata": {},
   "outputs": [],
   "source": [
    "def process_image(image):\n",
    "    # NOTE: The output you return should be a color image (3 channel) for processing video below\n",
    "    # TODO: put your pipeline here,\n",
    "    # you should return the final output (image where lines are drawn on lanes)\n",
    "\n",
    "    gray = grayscale(image)\n",
    "    gray = gaussian_blur(gray, 3)\n",
    "    image_canny = canny(gray,50,150)\n",
    "\n",
    "    imshape = img.shape\n",
    "    vertices = np.array([[ (.51*imshape[1],imshape[0]*.58),(.49*imshape[1],imshape[0]*0.58), (0,imshape[0]), (imshape[1],imshape[0]) ]], dtype=np.int32)\n",
    "    image_mask = region_of_interest(image_canny, vertices);\n",
    "\n",
    "    hough_lines1 = hough_lines(image_mask, 1, np.pi/180, 35, 5, 2)      \n",
    "    annotated_image = weighted_img(hough_lines1, image, α=0.8, β=1.)\n",
    "        \n",
    "    return annotated_image"
   ]
  },
  {
   "cell_type": "markdown",
   "metadata": {},
   "source": [
    "Let's try the one with the solid white lane on the right first ..."
   ]
  },
  {
   "cell_type": "code",
   "execution_count": 35,
   "metadata": {},
   "outputs": [
    {
     "name": "stdout",
     "output_type": "stream",
     "text": [
      "[MoviePy] >>>> Building video test_videos_output/solidWhiteRight.mp4\n",
      "[MoviePy] Writing video test_videos_output/solidWhiteRight.mp4\n"
     ]
    },
    {
     "name": "stderr",
     "output_type": "stream",
     "text": [
      "100%|█████████▉| 221/222 [00:03<00:00, 66.34it/s]\n"
     ]
    },
    {
     "name": "stdout",
     "output_type": "stream",
     "text": [
      "[MoviePy] Done.\n",
      "[MoviePy] >>>> Video ready: test_videos_output/solidWhiteRight.mp4 \n",
      "\n",
      "CPU times: user 7.2 s, sys: 214 ms, total: 7.41 s\n",
      "Wall time: 3.71 s\n"
     ]
    }
   ],
   "source": [
    "white_output = 'test_videos_output/solidWhiteRight.mp4'\n",
    "## To speed up the testing process you may want to try your pipeline on a shorter subclip of the video\n",
    "## To do so add .subclip(start_second,end_second) to the end of the line below\n",
    "## Where start_second and end_second are integer values representing the start and end of the subclip\n",
    "## You may also uncomment the following line for a subclip of the first 5 seconds\n",
    "##clip1 = VideoFileClip(\"test_videos/solidWhiteRight.mp4\").subclip(0,5)\n",
    "clip1 = VideoFileClip(\"test_videos/solidWhiteRight.mp4\")\n",
    "white_clip = clip1.fl_image(process_image) #NOTE: this function expects color images!!\n",
    "%time white_clip.write_videofile(white_output, audio=False)"
   ]
  },
  {
   "cell_type": "markdown",
   "metadata": {},
   "source": [
    "Play the video inline, or if you prefer find the video in your filesystem (should be in the same directory) and play it in your video player of choice."
   ]
  },
  {
   "cell_type": "code",
   "execution_count": 36,
   "metadata": {},
   "outputs": [
    {
     "data": {
      "text/html": [
       "\n",
       "<video width=\"960\" height=\"540\" controls>\n",
       "  <source src=\"test_videos_output/solidWhiteRight.mp4\">\n",
       "</video>\n"
      ],
      "text/plain": [
       "<IPython.core.display.HTML object>"
      ]
     },
     "execution_count": 36,
     "metadata": {},
     "output_type": "execute_result"
    }
   ],
   "source": [
    "HTML(\"\"\"\n",
    "<video width=\"960\" height=\"540\" controls>\n",
    "  <source src=\"{0}\">\n",
    "</video>\n",
    "\"\"\".format(white_output))"
   ]
  },
  {
   "cell_type": "markdown",
   "metadata": {},
   "source": [
    "## Improve the draw_lines() function\n",
    "\n",
    "**At this point, if you were successful with making the pipeline and tuning parameters, you probably have the Hough line segments drawn onto the road, but what about identifying the full extent of the lane and marking it clearly as in the example video (P1_example.mp4)?  Think about defining a line to run the full length of the visible lane based on the line segments you identified with the Hough Transform. As mentioned previously, try to average and/or extrapolate the line segments you've detected to map out the full extent of the lane lines. You can see an example of the result you're going for in the video \"P1_example.mp4\".**\n",
    "\n",
    "**Go back and modify your draw_lines function accordingly and try re-running your pipeline. The new output should draw a single, solid line over the left lane line and a single, solid line over the right lane line. The lines should start from the bottom of the image and extend out to the top of the region of interest.**"
   ]
  },
  {
   "cell_type": "markdown",
   "metadata": {},
   "source": [
    "Now for the one with the solid yellow lane on the left. This one's more tricky!"
   ]
  },
  {
   "cell_type": "code",
   "execution_count": 22,
   "metadata": {},
   "outputs": [
    {
     "name": "stdout",
     "output_type": "stream",
     "text": [
      "[MoviePy] >>>> Building video test_videos_output/solidYellowLeft.mp4\n",
      "[MoviePy] Writing video test_videos_output/solidYellowLeft.mp4\n"
     ]
    },
    {
     "name": "stderr",
     "output_type": "stream",
     "text": [
      " 99%|█████████▉| 125/126 [00:01<00:00, 88.84it/s]\n"
     ]
    },
    {
     "name": "stdout",
     "output_type": "stream",
     "text": [
      "[MoviePy] Done.\n",
      "[MoviePy] >>>> Video ready: test_videos_output/solidYellowLeft.mp4 \n",
      "\n",
      "CPU times: user 3.81 s, sys: 190 ms, total: 4 s\n",
      "Wall time: 1.52 s\n"
     ]
    }
   ],
   "source": [
    "yellow_output = 'test_videos_output/solidYellowLeft.mp4'\n",
    "## To speed up the testing process you may want to try your pipeline on a shorter subclip of the video\n",
    "## To do so add .subclip(start_second,end_second) to the end of the line below\n",
    "## Where start_second and end_second are integer values representing the start and end of the subclip\n",
    "## You may also uncomment the following line for a subclip of the first 5 seconds\n",
    "clip2 = VideoFileClip('test_videos/solidYellowLeft.mp4').subclip(0,5)\n",
    "##clip2 = VideoFileClip('test_videos/solidYellowLeft.mp4')\n",
    "yellow_clip = clip2.fl_image(process_image)\n",
    "%time yellow_clip.write_videofile(yellow_output, audio=False)"
   ]
  },
  {
   "cell_type": "code",
   "execution_count": 23,
   "metadata": {},
   "outputs": [
    {
     "data": {
      "text/html": [
       "\n",
       "<video width=\"960\" height=\"540\" controls>\n",
       "  <source src=\"test_videos_output/solidYellowLeft.mp4\">\n",
       "</video>\n"
      ],
      "text/plain": [
       "<IPython.core.display.HTML object>"
      ]
     },
     "execution_count": 23,
     "metadata": {},
     "output_type": "execute_result"
    }
   ],
   "source": [
    "HTML(\"\"\"\n",
    "<video width=\"960\" height=\"540\" controls>\n",
    "  <source src=\"{0}\">\n",
    "</video>\n",
    "\"\"\".format(yellow_output))"
   ]
  },
  {
   "cell_type": "markdown",
   "metadata": {},
   "source": [
    "## Writeup and Submission\n",
    "\n",
    "If you're satisfied with your video outputs, it's time to make the report writeup in a pdf or markdown file. Once you have this Ipython notebook ready along with the writeup, it's time to submit for review! Here is a [link](https://github.com/udacity/CarND-LaneLines-P1/blob/master/writeup_template.md) to the writeup template file.\n"
   ]
  },
  {
   "cell_type": "markdown",
   "metadata": {
    "collapsed": true
   },
   "source": [
    "## Optional Challenge\n",
    "\n",
    "Try your lane finding pipeline on the video below.  Does it still work?  Can you figure out a way to make it more robust?  If you're up for the challenge, modify your pipeline so it works with this video and submit it along with the rest of your project!"
   ]
  },
  {
   "cell_type": "code",
   "execution_count": null,
   "metadata": {
    "collapsed": true
   },
   "outputs": [],
   "source": [
    "challenge_output = 'test_videos_output/challenge.mp4'\n",
    "## To speed up the testing process you may want to try your pipeline on a shorter subclip of the video\n",
    "## To do so add .subclip(start_second,end_second) to the end of the line below\n",
    "## Where start_second and end_second are integer values representing the start and end of the subclip\n",
    "## You may also uncomment the following line for a subclip of the first 5 seconds\n",
    "##clip3 = VideoFileClip('test_videos/challenge.mp4').subclip(0,5)\n",
    "clip3 = VideoFileClip('test_videos/challenge.mp4')\n",
    "challenge_clip = clip3.fl_image(process_image)\n",
    "%time challenge_clip.write_videofile(challenge_output, audio=False)"
   ]
  },
  {
   "cell_type": "code",
   "execution_count": null,
   "metadata": {
    "collapsed": true
   },
   "outputs": [],
   "source": [
    "HTML(\"\"\"\n",
    "<video width=\"960\" height=\"540\" controls>\n",
    "  <source src=\"{0}\">\n",
    "</video>\n",
    "\"\"\".format(challenge_output))"
   ]
  }
 ],
 "metadata": {
  "anaconda-cloud": {},
  "kernelspec": {
   "display_name": "Python 3",
   "language": "python",
   "name": "python3"
  },
  "language_info": {
   "codemirror_mode": {
    "name": "ipython",
    "version": 3
   },
   "file_extension": ".py",
   "mimetype": "text/x-python",
   "name": "python",
   "nbconvert_exporter": "python",
   "pygments_lexer": "ipython3",
   "version": "3.6.5"
  }
 },
 "nbformat": 4,
 "nbformat_minor": 1
}
